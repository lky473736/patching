{
  "cells": [
    {
      "cell_type": "code",
      "execution_count": 1,
      "id": "dbd37246",
      "metadata": {
        "ExecuteTime": {
          "end_time": "2025-04-26T13:01:00.624071Z",
          "start_time": "2025-04-26T13:01:00.605309Z"
        },
        "id": "dbd37246"
      },
      "outputs": [],
      "source": [
        "import numpy as np\n",
        "import pandas as pd\n",
        "import matplotlib.pyplot as plt\n",
        "import seaborn as sns\n",
        "import tensorflow as tf\n",
        "from tensorflow.keras import layers, models, optimizers, callbacks\n",
        "from sklearn.model_selection import train_test_split\n",
        "from sklearn.preprocessing import StandardScaler\n",
        "from sklearn.metrics import confusion_matrix, classification_report, f1_score, precision_score, recall_score\n",
        "import os\n",
        "import zipfile\n",
        "import urllib.request\n",
        "from io import BytesIO\n",
        "from scipy import stats"
      ]
    },
    {
      "cell_type": "code",
      "execution_count": 2,
      "id": "3a2a6263",
      "metadata": {
        "ExecuteTime": {
          "end_time": "2025-04-26T13:01:06.235740Z",
          "start_time": "2025-04-26T13:01:00.628900Z"
        },
        "colab": {
          "base_uri": "https://localhost:8080/"
        },
        "id": "3a2a6263",
        "outputId": "8399da45-6175-4a0b-fad0-75212c291975"
      },
      "outputs": [
        {
          "output_type": "stream",
          "name": "stderr",
          "text": [
            "<ipython-input-2-daf6ec1b3c13>:3: FutureWarning: The 'delim_whitespace' keyword in pd.read_csv is deprecated and will be removed in a future version. Use ``sep='\\s+'`` instead\n",
            "  activity_labels = pd.read_csv(os.path.join(data_path, 'activity_labels.txt'),\n",
            "<ipython-input-2-daf6ec1b3c13>:43: FutureWarning: The 'delim_whitespace' keyword in pd.read_csv is deprecated and will be removed in a future version. Use ``sep='\\s+'`` instead\n",
            "  signal = pd.read_csv(path, delim_whitespace=True, header=None).values\n",
            "<ipython-input-2-daf6ec1b3c13>:43: FutureWarning: The 'delim_whitespace' keyword in pd.read_csv is deprecated and will be removed in a future version. Use ``sep='\\s+'`` instead\n",
            "  signal = pd.read_csv(path, delim_whitespace=True, header=None).values\n",
            "<ipython-input-2-daf6ec1b3c13>:43: FutureWarning: The 'delim_whitespace' keyword in pd.read_csv is deprecated and will be removed in a future version. Use ``sep='\\s+'`` instead\n",
            "  signal = pd.read_csv(path, delim_whitespace=True, header=None).values\n",
            "<ipython-input-2-daf6ec1b3c13>:43: FutureWarning: The 'delim_whitespace' keyword in pd.read_csv is deprecated and will be removed in a future version. Use ``sep='\\s+'`` instead\n",
            "  signal = pd.read_csv(path, delim_whitespace=True, header=None).values\n",
            "<ipython-input-2-daf6ec1b3c13>:43: FutureWarning: The 'delim_whitespace' keyword in pd.read_csv is deprecated and will be removed in a future version. Use ``sep='\\s+'`` instead\n",
            "  signal = pd.read_csv(path, delim_whitespace=True, header=None).values\n",
            "<ipython-input-2-daf6ec1b3c13>:43: FutureWarning: The 'delim_whitespace' keyword in pd.read_csv is deprecated and will be removed in a future version. Use ``sep='\\s+'`` instead\n",
            "  signal = pd.read_csv(path, delim_whitespace=True, header=None).values\n",
            "<ipython-input-2-daf6ec1b3c13>:43: FutureWarning: The 'delim_whitespace' keyword in pd.read_csv is deprecated and will be removed in a future version. Use ``sep='\\s+'`` instead\n",
            "  signal = pd.read_csv(path, delim_whitespace=True, header=None).values\n",
            "<ipython-input-2-daf6ec1b3c13>:43: FutureWarning: The 'delim_whitespace' keyword in pd.read_csv is deprecated and will be removed in a future version. Use ``sep='\\s+'`` instead\n",
            "  signal = pd.read_csv(path, delim_whitespace=True, header=None).values\n",
            "<ipython-input-2-daf6ec1b3c13>:43: FutureWarning: The 'delim_whitespace' keyword in pd.read_csv is deprecated and will be removed in a future version. Use ``sep='\\s+'`` instead\n",
            "  signal = pd.read_csv(path, delim_whitespace=True, header=None).values\n",
            "<ipython-input-2-daf6ec1b3c13>:49: FutureWarning: The 'delim_whitespace' keyword in pd.read_csv is deprecated and will be removed in a future version. Use ``sep='\\s+'`` instead\n",
            "  signal = pd.read_csv(path, delim_whitespace=True, header=None).values\n",
            "<ipython-input-2-daf6ec1b3c13>:49: FutureWarning: The 'delim_whitespace' keyword in pd.read_csv is deprecated and will be removed in a future version. Use ``sep='\\s+'`` instead\n",
            "  signal = pd.read_csv(path, delim_whitespace=True, header=None).values\n",
            "<ipython-input-2-daf6ec1b3c13>:49: FutureWarning: The 'delim_whitespace' keyword in pd.read_csv is deprecated and will be removed in a future version. Use ``sep='\\s+'`` instead\n",
            "  signal = pd.read_csv(path, delim_whitespace=True, header=None).values\n",
            "<ipython-input-2-daf6ec1b3c13>:49: FutureWarning: The 'delim_whitespace' keyword in pd.read_csv is deprecated and will be removed in a future version. Use ``sep='\\s+'`` instead\n",
            "  signal = pd.read_csv(path, delim_whitespace=True, header=None).values\n",
            "<ipython-input-2-daf6ec1b3c13>:49: FutureWarning: The 'delim_whitespace' keyword in pd.read_csv is deprecated and will be removed in a future version. Use ``sep='\\s+'`` instead\n",
            "  signal = pd.read_csv(path, delim_whitespace=True, header=None).values\n",
            "<ipython-input-2-daf6ec1b3c13>:49: FutureWarning: The 'delim_whitespace' keyword in pd.read_csv is deprecated and will be removed in a future version. Use ``sep='\\s+'`` instead\n",
            "  signal = pd.read_csv(path, delim_whitespace=True, header=None).values\n",
            "<ipython-input-2-daf6ec1b3c13>:49: FutureWarning: The 'delim_whitespace' keyword in pd.read_csv is deprecated and will be removed in a future version. Use ``sep='\\s+'`` instead\n",
            "  signal = pd.read_csv(path, delim_whitespace=True, header=None).values\n",
            "<ipython-input-2-daf6ec1b3c13>:49: FutureWarning: The 'delim_whitespace' keyword in pd.read_csv is deprecated and will be removed in a future version. Use ``sep='\\s+'`` instead\n",
            "  signal = pd.read_csv(path, delim_whitespace=True, header=None).values\n",
            "<ipython-input-2-daf6ec1b3c13>:49: FutureWarning: The 'delim_whitespace' keyword in pd.read_csv is deprecated and will be removed in a future version. Use ``sep='\\s+'`` instead\n",
            "  signal = pd.read_csv(path, delim_whitespace=True, header=None).values\n"
          ]
        },
        {
          "output_type": "stream",
          "name": "stdout",
          "text": [
            "Loaded inertial signals data with shape: (7352, 128, 9) (train), (2947, 128, 9) (test)\n",
            "/content/activity_labels.txt\n",
            "Training data shape: (7352, 128, 9)\n",
            "Training labels shape: (7352, 6)\n",
            "Test data shape: (2947, 128, 9)\n",
            "Test labels shape: (2947, 6)\n",
            "\n",
            "Activity labels:\n",
            "   class_index          class_name\n",
            "0            1             WALKING\n",
            "1            2    WALKING_UPSTAIRS\n",
            "2            3  WALKING_DOWNSTAIRS\n",
            "3            4             SITTING\n",
            "4            5            STANDING\n",
            "5            6              LAYING\n"
          ]
        }
      ],
      "source": [
        "def load_uci_har_data(data_path):\n",
        "    # Load activity labels\n",
        "    activity_labels = pd.read_csv(os.path.join(data_path, 'activity_labels.txt'),\n",
        "                                 delim_whitespace=True, header=None,\n",
        "                                 names=['class_index', 'class_name'])\n",
        "\n",
        "    # Load labels\n",
        "    y_train = pd.read_csv(os.path.join(data_path, 'y_train.txt'), header=None)\n",
        "    y_test = pd.read_csv(os.path.join(data_path, 'y_test.txt'), header=None)\n",
        "\n",
        "    # Convert labels to numpy arrays\n",
        "    y_train = y_train.values.flatten().astype('int32') - 1  # Make labels zero-indexed\n",
        "    y_test = y_test.values.flatten().astype('int32') - 1  # Make labels zero-indexed\n",
        "\n",
        "    # Load inertial signals data\n",
        "    train_signals_paths = [\n",
        "        os.path.join(data_path, 'body_acc_x_train.txt'),\n",
        "        os.path.join(data_path, 'body_acc_y_train.txt'),\n",
        "        os.path.join(data_path, 'body_acc_z_train.txt'),\n",
        "        os.path.join(data_path, 'body_gyro_x_train.txt'),\n",
        "        os.path.join(data_path, 'body_gyro_y_train.txt'),\n",
        "        os.path.join(data_path, 'body_gyro_z_train.txt'),\n",
        "        os.path.join(data_path, 'total_acc_x_train.txt'),\n",
        "        os.path.join(data_path, 'total_acc_y_train.txt'),\n",
        "        os.path.join(data_path, 'total_acc_z_train.txt')\n",
        "    ]\n",
        "\n",
        "    test_signals_paths = [\n",
        "        os.path.join(data_path, 'body_acc_x_test.txt'),\n",
        "        os.path.join(data_path, 'body_acc_y_test.txt'),\n",
        "        os.path.join(data_path, 'body_acc_z_test.txt'),\n",
        "        os.path.join(data_path, 'body_gyro_x_test.txt'),\n",
        "        os.path.join(data_path, 'body_gyro_y_test.txt'),\n",
        "        os.path.join(data_path, 'body_gyro_z_test.txt'),\n",
        "        os.path.join(data_path, 'total_acc_x_test.txt'),\n",
        "        os.path.join(data_path, 'total_acc_y_test.txt'),\n",
        "        os.path.join(data_path, 'total_acc_z_test.txt')\n",
        "    ]\n",
        "\n",
        "    # Load and stack training data\n",
        "    x_train_signals = []\n",
        "    for path in train_signals_paths:\n",
        "        signal = pd.read_csv(path, delim_whitespace=True, header=None).values\n",
        "        x_train_signals.append(signal)\n",
        "\n",
        "    # Load and stack test data\n",
        "    x_test_signals = []\n",
        "    for path in test_signals_paths:\n",
        "        signal = pd.read_csv(path, delim_whitespace=True, header=None).values\n",
        "        x_test_signals.append(signal)\n",
        "\n",
        "    # Convert to numpy arrays with shape (n_samples, n_timestamps, n_features)\n",
        "    # Each signal has shape (n_samples, n_timestamps)\n",
        "    # We'll transpose to get shape (n_samples, n_timestamps, n_features)\n",
        "    x_train = np.transpose(np.array(x_train_signals), (1, 2, 0)).astype('float32')\n",
        "    x_test = np.transpose(np.array(x_test_signals), (1, 2, 0)).astype('float32')\n",
        "\n",
        "    print(f\"Loaded inertial signals data with shape: {x_train.shape} (train), {x_test.shape} (test)\")\n",
        "\n",
        "    # Normalize each feature independently\n",
        "    n_samples_train, n_timestamps, n_features = x_train.shape\n",
        "    n_samples_test = x_test.shape[0]\n",
        "\n",
        "    # Reshape to normalize features independently\n",
        "    x_train_reshaped = x_train.reshape((n_samples_train * n_timestamps, n_features))\n",
        "    x_test_reshaped = x_test.reshape((n_samples_test * n_timestamps, n_features))\n",
        "\n",
        "    # Normalize\n",
        "    scaler = StandardScaler()\n",
        "    x_train_reshaped = scaler.fit_transform(x_train_reshaped)\n",
        "    x_test_reshaped = scaler.transform(x_test_reshaped)\n",
        "\n",
        "    # Reshape back to original shape\n",
        "    x_train = x_train_reshaped.reshape((n_samples_train, n_timestamps, n_features))\n",
        "    x_test = x_test_reshaped.reshape((n_samples_test, n_timestamps, n_features))\n",
        "\n",
        "    # One-hot encode labels\n",
        "    y_train_onehot = tf.keras.utils.to_categorical(y_train, num_classes=6)\n",
        "    y_test_onehot = tf.keras.utils.to_categorical(y_test, num_classes=6)\n",
        "\n",
        "    return x_train, y_train, y_train_onehot, x_test, y_test, y_test_onehot, activity_labels\n",
        "\n",
        "data_path = \"/content/\"\n",
        "x_train, y_train, y_train_onehot, x_test, y_test, y_test_onehot, activity_labels = load_uci_har_data(data_path)\n",
        "\n",
        "print (\"/content/activity_labels.txt\")\n",
        "print(f\"Training data shape: {x_train.shape}\")\n",
        "print(f\"Training labels shape: {y_train_onehot.shape}\")\n",
        "print(f\"Test data shape: {x_test.shape}\")\n",
        "print(f\"Test labels shape: {y_test_onehot.shape}\")\n",
        "print(\"\\nActivity labels:\")\n",
        "print(activity_labels)"
      ]
    },
    {
      "cell_type": "code",
      "execution_count": 3,
      "id": "749678f4",
      "metadata": {
        "ExecuteTime": {
          "end_time": "2025-04-26T13:01:06.267972Z",
          "start_time": "2025-04-26T13:01:06.239622Z"
        },
        "colab": {
          "base_uri": "https://localhost:8080/"
        },
        "id": "749678f4",
        "outputId": "31ab5150-daaa-445f-d5ea-aebba8ca0015"
      },
      "outputs": [
        {
          "output_type": "stream",
          "name": "stdout",
          "text": [
            "Original training data shape: (7352, 128, 9)\n",
            "Original test data shape: (2947, 128, 9)\n",
            "Final training data shape: (7352, 128, 9)\n",
            "Final training labels shape: (7352, 6)\n",
            "Final test data shape: (2947, 128, 9)\n",
            "Final test labels shape: (2947, 6)\n"
          ]
        }
      ],
      "source": [
        "def split_sequences(data, window_size=128, step=64):\n",
        "    \"\"\"\n",
        "    Split the data into sequences with overlapping windows\n",
        "\n",
        "    Args:\n",
        "        data: Input data with shape (n_samples, n_features)\n",
        "        window_size: Number of time steps in each sequence\n",
        "        step: Step size between consecutive sequences\n",
        "\n",
        "    Returns:\n",
        "        Sequences with shape (n_sequences, window_size, n_features)\n",
        "    \"\"\"\n",
        "    n_samples, n_features = data.shape\n",
        "    sequences = []\n",
        "\n",
        "    for i in range(0, n_samples - window_size + 1, step):\n",
        "        sequence = data[i:i + window_size]\n",
        "        sequences.append(sequence)\n",
        "\n",
        "    return np.array(sequences)\n",
        "\n",
        "# -----\n",
        "# Since the inertial signals data is already in the format of (samples, timestamps, features),\n",
        "# we don't need to use the split_sequences function for basic formatting, but we'll still use it\n",
        "# if needed for resizing or overlap\n",
        "\n",
        "# Check the current shape of the data\n",
        "print(f\"Original training data shape: {x_train.shape}\")\n",
        "print(f\"Original test data shape: {x_test.shape}\")\n",
        "\n",
        "# The data already has 128 timestamps per sample, so we can use it directly\n",
        "# If we need to adjust window size or create overlapping windows:\n",
        "window_size = 128  # This is already the size in the dataset\n",
        "step = 128  # Non-overlapping by default - set to smaller value for overlap\n",
        "\n",
        "# Check if we need to reshape the data\n",
        "if x_train.shape[1] != window_size or step != window_size:\n",
        "    print(\"Reshaping data to adjust window size or create overlapping samples...\")\n",
        "    # Flatten the data to 2D and then recreate sequences\n",
        "    x_train_flat = x_train.reshape(x_train.shape[0] * x_train.shape[1], x_train.shape[2])\n",
        "    x_test_flat = x_test.reshape(x_test.shape[0] * x_test.shape[1], x_test.shape[2])\n",
        "\n",
        "    # Create new sequences\n",
        "    x_train_seq = split_sequences(x_train_flat, window_size=window_size, step=step)\n",
        "    x_test_seq = split_sequences(x_test_flat, window_size=window_size, step=step)\n",
        "\n",
        "    # Create corresponding labels for sequences\n",
        "    # For each sequence, we'll use the mode of the labels\n",
        "    orig_samples_per_window = x_train.shape[1] / window_size\n",
        "\n",
        "    y_train_seq = []\n",
        "    for i in range(0, len(x_train_flat) - window_size + 1, step):\n",
        "        # Map back to original sample indices\n",
        "        orig_sample_idx = int(i / x_train.shape[1])\n",
        "        mode_label = y_train[orig_sample_idx]\n",
        "        y_train_seq.append(mode_label)\n",
        "\n",
        "    y_test_seq = []\n",
        "    for i in range(0, len(x_test_flat) - window_size + 1, step):\n",
        "        # Map back to original sample indices\n",
        "        orig_sample_idx = int(i / x_test.shape[1])\n",
        "        mode_label = y_test[orig_sample_idx]\n",
        "        y_test_seq.append(mode_label)\n",
        "\n",
        "    y_train_seq = np.array(y_train_seq)\n",
        "    y_test_seq = np.array(y_test_seq)\n",
        "else:\n",
        "    # If no reshaping is needed, use the data directly\n",
        "    x_train_seq = x_train\n",
        "    x_test_seq = x_test\n",
        "    y_train_seq = y_train\n",
        "    y_test_seq = y_test\n",
        "\n",
        "# One-hot encode labels\n",
        "y_train_seq_onehot = tf.keras.utils.to_categorical(y_train_seq, num_classes=6)\n",
        "y_test_seq_onehot = tf.keras.utils.to_categorical(y_test_seq, num_classes=6)\n",
        "\n",
        "print(f\"Final training data shape: {x_train_seq.shape}\")\n",
        "print(f\"Final training labels shape: {y_train_seq_onehot.shape}\")\n",
        "print(f\"Final test data shape: {x_test_seq.shape}\")\n",
        "print(f\"Final test labels shape: {y_test_seq_onehot.shape}\")\n"
      ]
    },
    {
      "cell_type": "markdown",
      "id": "0fbc05b4",
      "metadata": {
        "id": "0fbc05b4"
      },
      "source": [
        "---"
      ]
    },
    {
      "cell_type": "code",
      "execution_count": 4,
      "id": "a53e5af5",
      "metadata": {
        "ExecuteTime": {
          "end_time": "2025-04-26T13:01:06.292097Z",
          "start_time": "2025-04-26T13:01:06.271011Z"
        },
        "id": "a53e5af5"
      },
      "outputs": [],
      "source": [
        "class MST_Block(layers.Layer):\n",
        "    def __init__(self, filters, kernel_sizes=(3, 5, 7), **kwargs):\n",
        "        super(MST_Block, self).__init__(**kwargs)\n",
        "        self.filters = filters\n",
        "        self.kernel_sizes = kernel_sizes\n",
        "\n",
        "        # For each kernel size, create a depthwise conv layer\n",
        "        self.conv_layers = []\n",
        "\n",
        "        # Follow the paper's guideline for dimension allocation\n",
        "        if len(kernel_sizes) == 3:  # Stage-1 with 3 kernel sizes\n",
        "            self.filter_dims = [filters//4, filters//4, filters//2]  # 32, 32, 64 for filters=128\n",
        "        else:  # Stage-2/3 with 2 kernel sizes\n",
        "            self.filter_dims = [filters//2, filters//2]  # 각각 64로 설정하여 합이 128이 되도록 수정\n",
        "\n",
        "        # Create depthwise convolution for each kernel size\n",
        "        for i, k_size in enumerate(kernel_sizes):\n",
        "            self.conv_layers.append(\n",
        "                layers.DepthwiseConv1D(\n",
        "                    kernel_size=k_size,\n",
        "                    strides=1,\n",
        "                    padding='same',\n",
        "                    depth_multiplier=1,\n",
        "                    activation=None,\n",
        "                    name=f'dwconv_{k_size}'\n",
        "                )\n",
        "            )\n",
        "\n",
        "        # Projection layers after each convolution\n",
        "        self.proj_layers = []\n",
        "        for i in range(len(kernel_sizes)):\n",
        "            self.proj_layers.append(\n",
        "                layers.Conv1D(\n",
        "                    filters=self.filter_dims[i],\n",
        "                    kernel_size=1,\n",
        "                    activation='relu',\n",
        "                    name=f'proj_{self.kernel_sizes[i]}'\n",
        "                )\n",
        "            )\n",
        "\n",
        "        # Layer normalization\n",
        "        self.layer_norm1 = layers.LayerNormalization(epsilon=1e-6)\n",
        "\n",
        "        # Window-based self-attention (W-SA) with relative position bias\n",
        "        self.attention = layers.MultiHeadAttention(\n",
        "            num_heads=4,\n",
        "            key_dim=filters // 4\n",
        "        )\n",
        "\n",
        "        # 출력 차원을 명확하게 일치시키기 위한 투영 레이어 추가\n",
        "        self.output_proj = layers.Conv1D(filters, kernel_size=1, activation=None)\n",
        "\n",
        "        # MLP after attention\n",
        "        self.layer_norm2 = layers.LayerNormalization(epsilon=1e-6)\n",
        "        self.mlp = tf.keras.Sequential([\n",
        "            layers.Dense(filters * 4, activation='relu'),\n",
        "            layers.Dense(filters)\n",
        "        ])\n",
        "\n",
        "    def call(self, inputs):\n",
        "        # Multi-scale feature aggregation\n",
        "        x = inputs\n",
        "        feature_maps = []\n",
        "\n",
        "        for i, conv_layer in enumerate(self.conv_layers):\n",
        "            # Apply depthwise convolution\n",
        "            conv_out = conv_layer(x)\n",
        "            # Apply projection\n",
        "            proj_out = self.proj_layers[i](conv_out)\n",
        "            feature_maps.append(proj_out)\n",
        "\n",
        "        # Concatenate along feature dimension\n",
        "        concat_features = tf.concat(feature_maps, axis=-1)\n",
        "\n",
        "        # 출력 차원을 입력 차원과 정확히 일치시키기 위해 투영\n",
        "        x = self.output_proj(concat_features)\n",
        "\n",
        "        # Apply window-based self-attention with relative position bias\n",
        "        attn_input = self.layer_norm1(x)\n",
        "        attention_output = self.attention(attn_input, attn_input)\n",
        "        x = x + attention_output\n",
        "\n",
        "        # Apply MLP with residual connection\n",
        "        mlp_input = self.layer_norm2(x)\n",
        "        mlp_output = self.mlp(mlp_input)\n",
        "        return x + mlp_output"
      ]
    },
    {
      "cell_type": "code",
      "execution_count": 5,
      "id": "36365b5f",
      "metadata": {
        "ExecuteTime": {
          "end_time": "2025-04-26T13:01:06.313588Z",
          "start_time": "2025-04-26T13:01:06.299689Z"
        },
        "id": "36365b5f"
      },
      "outputs": [],
      "source": [
        "class PAT_Block(layers.Layer):\n",
        "    def __init__(self, num_bases=96, **kwargs):\n",
        "        super(PAT_Block, self).__init__(**kwargs)\n",
        "        self.num_bases = num_bases\n",
        "\n",
        "        # Linear layer for query transformation\n",
        "        self.query_proj = layers.Dense(128, name='query_proj')\n",
        "\n",
        "        # MLP for base estimation with linear layer and ReLU\n",
        "        self.base_mlp = tf.keras.Sequential([\n",
        "            layers.Dense(128, activation='relu'),\n",
        "            layers.Dense(128)\n",
        "        ], name='base_mlp')\n",
        "\n",
        "        # Final MLP for output\n",
        "        self.final_mlp = tf.keras.Sequential([\n",
        "            layers.Dense(128, activation='relu'),\n",
        "            layers.Dense(128)\n",
        "        ], name='final_mlp')\n",
        "\n",
        "    def build(self, input_shape):\n",
        "        # For simplicity, we'll use fixed bases for all samples in a batch\n",
        "        # In a complete implementation, this should be dynamic using K-means per sample\n",
        "        self.bases = self.add_weight(\n",
        "            name='bases',\n",
        "            shape=(self.num_bases, input_shape[-1]),\n",
        "            initializer='glorot_uniform',\n",
        "            trainable=True\n",
        "        )\n",
        "        super(PAT_Block, self).build(input_shape)\n",
        "\n",
        "    def call(self, inputs):\n",
        "        # Calculate queries from input\n",
        "        queries = self.query_proj(inputs)\n",
        "\n",
        "        # Process bases through the MLP\n",
        "        processed_bases = self.base_mlp(self.bases)\n",
        "\n",
        "        # Calculate attention scores between queries and bases\n",
        "        # Shape: (batch_size, sequence_length, num_bases)\n",
        "        attention_scores = tf.matmul(queries, tf.transpose(processed_bases))\n",
        "\n",
        "        # Apply softmax to get attention weights\n",
        "        attention_weights = tf.nn.softmax(attention_scores, axis=-1)\n",
        "\n",
        "        # Calculate re-estimated features by weighted sum of bases\n",
        "        # Shape: (batch_size, sequence_length, feature_dim)\n",
        "        reestimated = tf.matmul(attention_weights, processed_bases)\n",
        "\n",
        "        # Calculate feature difference (like PCT paper)\n",
        "        feature_diff = reestimated - inputs\n",
        "\n",
        "        # Apply final MLP and residual connection\n",
        "        output = inputs + self.final_mlp(feature_diff)\n",
        "\n",
        "        return output"
      ]
    },
    {
      "cell_type": "code",
      "execution_count": 6,
      "id": "792f015d",
      "metadata": {
        "ExecuteTime": {
          "end_time": "2025-04-26T13:01:06.328623Z",
          "start_time": "2025-04-26T13:01:06.319429Z"
        },
        "id": "792f015d"
      },
      "outputs": [],
      "source": [
        "def build_patchformer_model(input_shape, num_classes=6):\n",
        "    inputs = layers.Input(shape=input_shape)\n",
        "\n",
        "    # Initial embedding using shared MLP (implemented as Conv1D)\n",
        "    x = layers.Conv1D(128, kernel_size=1, activation='relu')(inputs)\n",
        "\n",
        "    # Stage 1: MST Block + PAT Block\n",
        "    # MST Block with 3 kernel sizes (3, 5, 7)\n",
        "    x = MST_Block(filters=128, kernel_sizes=(3, 5, 7))(x)\n",
        "    x = PAT_Block(num_bases=96)(x)\n",
        "\n",
        "    # Stage 2: MST Block + PAT Block\n",
        "    # MST Block with 2 kernel sizes (3, 5)\n",
        "    x = MST_Block(filters=128, kernel_sizes=(3, 5))(x)\n",
        "    x = PAT_Block(num_bases=96)(x)\n",
        "\n",
        "    # Stage 3: MST Block + PAT Block\n",
        "    # MST Block with 2 kernel sizes (3, 5)\n",
        "    x = MST_Block(filters=128, kernel_sizes=(3, 5))(x)\n",
        "    x = PAT_Block(num_bases=96)(x)\n",
        "\n",
        "    # Flatten\n",
        "    x = layers.Flatten()(x)\n",
        "\n",
        "    # Classification head\n",
        "    x = layers.Dense(512, activation='relu')(x)\n",
        "    x = layers.Dropout(0.1)(x)\n",
        "\n",
        "    x = layers.Dense(256, activation='relu')(x)\n",
        "    x = layers.Dropout(0.1)(x)\n",
        "\n",
        "    x = layers.Dense(128, activation='relu')(x)\n",
        "    x = layers.Dropout(0.1)(x)\n",
        "    outputs = layers.Dense(num_classes, activation='softmax')(x)\n",
        "\n",
        "    model = models.Model(inputs=inputs, outputs=outputs)\n",
        "    return model"
      ]
    },
    {
      "cell_type": "code",
      "execution_count": 7,
      "id": "d7cd8408",
      "metadata": {
        "ExecuteTime": {
          "end_time": "2025-04-26T13:01:09.694767Z",
          "start_time": "2025-04-26T13:01:06.333446Z"
        },
        "colab": {
          "base_uri": "https://localhost:8080/",
          "height": 661
        },
        "id": "d7cd8408",
        "outputId": "6c8f5266-4636-44c8-e59c-e711ddfea0fb"
      },
      "outputs": [
        {
          "output_type": "display_data",
          "data": {
            "text/plain": [
              "\u001b[1mModel: \"functional_9\"\u001b[0m\n"
            ],
            "text/html": [
              "<pre style=\"white-space:pre;overflow-x:auto;line-height:normal;font-family:Menlo,'DejaVu Sans Mono',consolas,'Courier New',monospace\"><span style=\"font-weight: bold\">Model: \"functional_9\"</span>\n",
              "</pre>\n"
            ]
          },
          "metadata": {}
        },
        {
          "output_type": "display_data",
          "data": {
            "text/plain": [
              "┏━━━━━━━━━━━━━━━━━━━━━━━━━━━━━━━━━┳━━━━━━━━━━━━━━━━━━━━━━━━┳━━━━━━━━━━━━━━━┓\n",
              "┃\u001b[1m \u001b[0m\u001b[1mLayer (type)                   \u001b[0m\u001b[1m \u001b[0m┃\u001b[1m \u001b[0m\u001b[1mOutput Shape          \u001b[0m\u001b[1m \u001b[0m┃\u001b[1m \u001b[0m\u001b[1m      Param #\u001b[0m\u001b[1m \u001b[0m┃\n",
              "┡━━━━━━━━━━━━━━━━━━━━━━━━━━━━━━━━━╇━━━━━━━━━━━━━━━━━━━━━━━━╇━━━━━━━━━━━━━━━┩\n",
              "│ input_layer (\u001b[38;5;33mInputLayer\u001b[0m)        │ (\u001b[38;5;45mNone\u001b[0m, \u001b[38;5;34m128\u001b[0m, \u001b[38;5;34m9\u001b[0m)         │             \u001b[38;5;34m0\u001b[0m │\n",
              "├─────────────────────────────────┼────────────────────────┼───────────────┤\n",
              "│ conv1d (\u001b[38;5;33mConv1D\u001b[0m)                 │ (\u001b[38;5;45mNone\u001b[0m, \u001b[38;5;34m128\u001b[0m, \u001b[38;5;34m128\u001b[0m)       │         \u001b[38;5;34m1,280\u001b[0m │\n",
              "├─────────────────────────────────┼────────────────────────┼───────────────┤\n",
              "│ mst__block (\u001b[38;5;33mMST_Block\u001b[0m)          │ (\u001b[38;5;45mNone\u001b[0m, \u001b[38;5;34m128\u001b[0m, \u001b[38;5;34m128\u001b[0m)       │       \u001b[38;5;34m233,600\u001b[0m │\n",
              "├─────────────────────────────────┼────────────────────────┼───────────────┤\n",
              "│ pat__block (\u001b[38;5;33mPAT_Block\u001b[0m)          │ (\u001b[38;5;45mNone\u001b[0m, \u001b[38;5;34m128\u001b[0m, \u001b[38;5;34m128\u001b[0m)       │        \u001b[38;5;34m94,848\u001b[0m │\n",
              "├─────────────────────────────────┼────────────────────────┼───────────────┤\n",
              "│ mst__block_1 (\u001b[38;5;33mMST_Block\u001b[0m)        │ (\u001b[38;5;45mNone\u001b[0m, \u001b[38;5;34m128\u001b[0m, \u001b[38;5;34m128\u001b[0m)       │       \u001b[38;5;34m232,576\u001b[0m │\n",
              "├─────────────────────────────────┼────────────────────────┼───────────────┤\n",
              "│ pat__block_1 (\u001b[38;5;33mPAT_Block\u001b[0m)        │ (\u001b[38;5;45mNone\u001b[0m, \u001b[38;5;34m128\u001b[0m, \u001b[38;5;34m128\u001b[0m)       │        \u001b[38;5;34m94,848\u001b[0m │\n",
              "├─────────────────────────────────┼────────────────────────┼───────────────┤\n",
              "│ mst__block_2 (\u001b[38;5;33mMST_Block\u001b[0m)        │ (\u001b[38;5;45mNone\u001b[0m, \u001b[38;5;34m128\u001b[0m, \u001b[38;5;34m128\u001b[0m)       │       \u001b[38;5;34m232,576\u001b[0m │\n",
              "├─────────────────────────────────┼────────────────────────┼───────────────┤\n",
              "│ pat__block_2 (\u001b[38;5;33mPAT_Block\u001b[0m)        │ (\u001b[38;5;45mNone\u001b[0m, \u001b[38;5;34m128\u001b[0m, \u001b[38;5;34m128\u001b[0m)       │        \u001b[38;5;34m94,848\u001b[0m │\n",
              "├─────────────────────────────────┼────────────────────────┼───────────────┤\n",
              "│ flatten (\u001b[38;5;33mFlatten\u001b[0m)               │ (\u001b[38;5;45mNone\u001b[0m, \u001b[38;5;34m16384\u001b[0m)          │             \u001b[38;5;34m0\u001b[0m │\n",
              "├─────────────────────────────────┼────────────────────────┼───────────────┤\n",
              "│ dense_18 (\u001b[38;5;33mDense\u001b[0m)                │ (\u001b[38;5;45mNone\u001b[0m, \u001b[38;5;34m512\u001b[0m)            │     \u001b[38;5;34m8,389,120\u001b[0m │\n",
              "├─────────────────────────────────┼────────────────────────┼───────────────┤\n",
              "│ dropout_3 (\u001b[38;5;33mDropout\u001b[0m)             │ (\u001b[38;5;45mNone\u001b[0m, \u001b[38;5;34m512\u001b[0m)            │             \u001b[38;5;34m0\u001b[0m │\n",
              "├─────────────────────────────────┼────────────────────────┼───────────────┤\n",
              "│ dense_19 (\u001b[38;5;33mDense\u001b[0m)                │ (\u001b[38;5;45mNone\u001b[0m, \u001b[38;5;34m256\u001b[0m)            │       \u001b[38;5;34m131,328\u001b[0m │\n",
              "├─────────────────────────────────┼────────────────────────┼───────────────┤\n",
              "│ dropout_4 (\u001b[38;5;33mDropout\u001b[0m)             │ (\u001b[38;5;45mNone\u001b[0m, \u001b[38;5;34m256\u001b[0m)            │             \u001b[38;5;34m0\u001b[0m │\n",
              "├─────────────────────────────────┼────────────────────────┼───────────────┤\n",
              "│ dense_20 (\u001b[38;5;33mDense\u001b[0m)                │ (\u001b[38;5;45mNone\u001b[0m, \u001b[38;5;34m128\u001b[0m)            │        \u001b[38;5;34m32,896\u001b[0m │\n",
              "├─────────────────────────────────┼────────────────────────┼───────────────┤\n",
              "│ dropout_5 (\u001b[38;5;33mDropout\u001b[0m)             │ (\u001b[38;5;45mNone\u001b[0m, \u001b[38;5;34m128\u001b[0m)            │             \u001b[38;5;34m0\u001b[0m │\n",
              "├─────────────────────────────────┼────────────────────────┼───────────────┤\n",
              "│ dense_21 (\u001b[38;5;33mDense\u001b[0m)                │ (\u001b[38;5;45mNone\u001b[0m, \u001b[38;5;34m6\u001b[0m)              │           \u001b[38;5;34m774\u001b[0m │\n",
              "└─────────────────────────────────┴────────────────────────┴───────────────┘\n"
            ],
            "text/html": [
              "<pre style=\"white-space:pre;overflow-x:auto;line-height:normal;font-family:Menlo,'DejaVu Sans Mono',consolas,'Courier New',monospace\">┏━━━━━━━━━━━━━━━━━━━━━━━━━━━━━━━━━┳━━━━━━━━━━━━━━━━━━━━━━━━┳━━━━━━━━━━━━━━━┓\n",
              "┃<span style=\"font-weight: bold\"> Layer (type)                    </span>┃<span style=\"font-weight: bold\"> Output Shape           </span>┃<span style=\"font-weight: bold\">       Param # </span>┃\n",
              "┡━━━━━━━━━━━━━━━━━━━━━━━━━━━━━━━━━╇━━━━━━━━━━━━━━━━━━━━━━━━╇━━━━━━━━━━━━━━━┩\n",
              "│ input_layer (<span style=\"color: #0087ff; text-decoration-color: #0087ff\">InputLayer</span>)        │ (<span style=\"color: #00d7ff; text-decoration-color: #00d7ff\">None</span>, <span style=\"color: #00af00; text-decoration-color: #00af00\">128</span>, <span style=\"color: #00af00; text-decoration-color: #00af00\">9</span>)         │             <span style=\"color: #00af00; text-decoration-color: #00af00\">0</span> │\n",
              "├─────────────────────────────────┼────────────────────────┼───────────────┤\n",
              "│ conv1d (<span style=\"color: #0087ff; text-decoration-color: #0087ff\">Conv1D</span>)                 │ (<span style=\"color: #00d7ff; text-decoration-color: #00d7ff\">None</span>, <span style=\"color: #00af00; text-decoration-color: #00af00\">128</span>, <span style=\"color: #00af00; text-decoration-color: #00af00\">128</span>)       │         <span style=\"color: #00af00; text-decoration-color: #00af00\">1,280</span> │\n",
              "├─────────────────────────────────┼────────────────────────┼───────────────┤\n",
              "│ mst__block (<span style=\"color: #0087ff; text-decoration-color: #0087ff\">MST_Block</span>)          │ (<span style=\"color: #00d7ff; text-decoration-color: #00d7ff\">None</span>, <span style=\"color: #00af00; text-decoration-color: #00af00\">128</span>, <span style=\"color: #00af00; text-decoration-color: #00af00\">128</span>)       │       <span style=\"color: #00af00; text-decoration-color: #00af00\">233,600</span> │\n",
              "├─────────────────────────────────┼────────────────────────┼───────────────┤\n",
              "│ pat__block (<span style=\"color: #0087ff; text-decoration-color: #0087ff\">PAT_Block</span>)          │ (<span style=\"color: #00d7ff; text-decoration-color: #00d7ff\">None</span>, <span style=\"color: #00af00; text-decoration-color: #00af00\">128</span>, <span style=\"color: #00af00; text-decoration-color: #00af00\">128</span>)       │        <span style=\"color: #00af00; text-decoration-color: #00af00\">94,848</span> │\n",
              "├─────────────────────────────────┼────────────────────────┼───────────────┤\n",
              "│ mst__block_1 (<span style=\"color: #0087ff; text-decoration-color: #0087ff\">MST_Block</span>)        │ (<span style=\"color: #00d7ff; text-decoration-color: #00d7ff\">None</span>, <span style=\"color: #00af00; text-decoration-color: #00af00\">128</span>, <span style=\"color: #00af00; text-decoration-color: #00af00\">128</span>)       │       <span style=\"color: #00af00; text-decoration-color: #00af00\">232,576</span> │\n",
              "├─────────────────────────────────┼────────────────────────┼───────────────┤\n",
              "│ pat__block_1 (<span style=\"color: #0087ff; text-decoration-color: #0087ff\">PAT_Block</span>)        │ (<span style=\"color: #00d7ff; text-decoration-color: #00d7ff\">None</span>, <span style=\"color: #00af00; text-decoration-color: #00af00\">128</span>, <span style=\"color: #00af00; text-decoration-color: #00af00\">128</span>)       │        <span style=\"color: #00af00; text-decoration-color: #00af00\">94,848</span> │\n",
              "├─────────────────────────────────┼────────────────────────┼───────────────┤\n",
              "│ mst__block_2 (<span style=\"color: #0087ff; text-decoration-color: #0087ff\">MST_Block</span>)        │ (<span style=\"color: #00d7ff; text-decoration-color: #00d7ff\">None</span>, <span style=\"color: #00af00; text-decoration-color: #00af00\">128</span>, <span style=\"color: #00af00; text-decoration-color: #00af00\">128</span>)       │       <span style=\"color: #00af00; text-decoration-color: #00af00\">232,576</span> │\n",
              "├─────────────────────────────────┼────────────────────────┼───────────────┤\n",
              "│ pat__block_2 (<span style=\"color: #0087ff; text-decoration-color: #0087ff\">PAT_Block</span>)        │ (<span style=\"color: #00d7ff; text-decoration-color: #00d7ff\">None</span>, <span style=\"color: #00af00; text-decoration-color: #00af00\">128</span>, <span style=\"color: #00af00; text-decoration-color: #00af00\">128</span>)       │        <span style=\"color: #00af00; text-decoration-color: #00af00\">94,848</span> │\n",
              "├─────────────────────────────────┼────────────────────────┼───────────────┤\n",
              "│ flatten (<span style=\"color: #0087ff; text-decoration-color: #0087ff\">Flatten</span>)               │ (<span style=\"color: #00d7ff; text-decoration-color: #00d7ff\">None</span>, <span style=\"color: #00af00; text-decoration-color: #00af00\">16384</span>)          │             <span style=\"color: #00af00; text-decoration-color: #00af00\">0</span> │\n",
              "├─────────────────────────────────┼────────────────────────┼───────────────┤\n",
              "│ dense_18 (<span style=\"color: #0087ff; text-decoration-color: #0087ff\">Dense</span>)                │ (<span style=\"color: #00d7ff; text-decoration-color: #00d7ff\">None</span>, <span style=\"color: #00af00; text-decoration-color: #00af00\">512</span>)            │     <span style=\"color: #00af00; text-decoration-color: #00af00\">8,389,120</span> │\n",
              "├─────────────────────────────────┼────────────────────────┼───────────────┤\n",
              "│ dropout_3 (<span style=\"color: #0087ff; text-decoration-color: #0087ff\">Dropout</span>)             │ (<span style=\"color: #00d7ff; text-decoration-color: #00d7ff\">None</span>, <span style=\"color: #00af00; text-decoration-color: #00af00\">512</span>)            │             <span style=\"color: #00af00; text-decoration-color: #00af00\">0</span> │\n",
              "├─────────────────────────────────┼────────────────────────┼───────────────┤\n",
              "│ dense_19 (<span style=\"color: #0087ff; text-decoration-color: #0087ff\">Dense</span>)                │ (<span style=\"color: #00d7ff; text-decoration-color: #00d7ff\">None</span>, <span style=\"color: #00af00; text-decoration-color: #00af00\">256</span>)            │       <span style=\"color: #00af00; text-decoration-color: #00af00\">131,328</span> │\n",
              "├─────────────────────────────────┼────────────────────────┼───────────────┤\n",
              "│ dropout_4 (<span style=\"color: #0087ff; text-decoration-color: #0087ff\">Dropout</span>)             │ (<span style=\"color: #00d7ff; text-decoration-color: #00d7ff\">None</span>, <span style=\"color: #00af00; text-decoration-color: #00af00\">256</span>)            │             <span style=\"color: #00af00; text-decoration-color: #00af00\">0</span> │\n",
              "├─────────────────────────────────┼────────────────────────┼───────────────┤\n",
              "│ dense_20 (<span style=\"color: #0087ff; text-decoration-color: #0087ff\">Dense</span>)                │ (<span style=\"color: #00d7ff; text-decoration-color: #00d7ff\">None</span>, <span style=\"color: #00af00; text-decoration-color: #00af00\">128</span>)            │        <span style=\"color: #00af00; text-decoration-color: #00af00\">32,896</span> │\n",
              "├─────────────────────────────────┼────────────────────────┼───────────────┤\n",
              "│ dropout_5 (<span style=\"color: #0087ff; text-decoration-color: #0087ff\">Dropout</span>)             │ (<span style=\"color: #00d7ff; text-decoration-color: #00d7ff\">None</span>, <span style=\"color: #00af00; text-decoration-color: #00af00\">128</span>)            │             <span style=\"color: #00af00; text-decoration-color: #00af00\">0</span> │\n",
              "├─────────────────────────────────┼────────────────────────┼───────────────┤\n",
              "│ dense_21 (<span style=\"color: #0087ff; text-decoration-color: #0087ff\">Dense</span>)                │ (<span style=\"color: #00d7ff; text-decoration-color: #00d7ff\">None</span>, <span style=\"color: #00af00; text-decoration-color: #00af00\">6</span>)              │           <span style=\"color: #00af00; text-decoration-color: #00af00\">774</span> │\n",
              "└─────────────────────────────────┴────────────────────────┴───────────────┘\n",
              "</pre>\n"
            ]
          },
          "metadata": {}
        },
        {
          "output_type": "display_data",
          "data": {
            "text/plain": [
              "\u001b[1m Total params: \u001b[0m\u001b[38;5;34m9,538,694\u001b[0m (36.39 MB)\n"
            ],
            "text/html": [
              "<pre style=\"white-space:pre;overflow-x:auto;line-height:normal;font-family:Menlo,'DejaVu Sans Mono',consolas,'Courier New',monospace\"><span style=\"font-weight: bold\"> Total params: </span><span style=\"color: #00af00; text-decoration-color: #00af00\">9,538,694</span> (36.39 MB)\n",
              "</pre>\n"
            ]
          },
          "metadata": {}
        },
        {
          "output_type": "display_data",
          "data": {
            "text/plain": [
              "\u001b[1m Trainable params: \u001b[0m\u001b[38;5;34m9,538,694\u001b[0m (36.39 MB)\n"
            ],
            "text/html": [
              "<pre style=\"white-space:pre;overflow-x:auto;line-height:normal;font-family:Menlo,'DejaVu Sans Mono',consolas,'Courier New',monospace\"><span style=\"font-weight: bold\"> Trainable params: </span><span style=\"color: #00af00; text-decoration-color: #00af00\">9,538,694</span> (36.39 MB)\n",
              "</pre>\n"
            ]
          },
          "metadata": {}
        },
        {
          "output_type": "display_data",
          "data": {
            "text/plain": [
              "\u001b[1m Non-trainable params: \u001b[0m\u001b[38;5;34m0\u001b[0m (0.00 B)\n"
            ],
            "text/html": [
              "<pre style=\"white-space:pre;overflow-x:auto;line-height:normal;font-family:Menlo,'DejaVu Sans Mono',consolas,'Courier New',monospace\"><span style=\"font-weight: bold\"> Non-trainable params: </span><span style=\"color: #00af00; text-decoration-color: #00af00\">0</span> (0.00 B)\n",
              "</pre>\n"
            ]
          },
          "metadata": {}
        }
      ],
      "source": [
        "model = build_patchformer_model(input_shape=(window_size, x_train.shape[2]))\n",
        "model.summary()\n",
        "\n",
        "# Compile the model\n",
        "model.compile(\n",
        "    optimizer=optimizers.Adam(learning_rate=0.001),\n",
        "    loss='categorical_crossentropy',\n",
        "    metrics=['accuracy']\n",
        ")"
      ]
    },
    {
      "cell_type": "code",
      "execution_count": 8,
      "id": "e52a58d3",
      "metadata": {
        "ExecuteTime": {
          "start_time": "2025-04-26T13:01:00.613Z"
        },
        "colab": {
          "base_uri": "https://localhost:8080/"
        },
        "id": "e52a58d3",
        "outputId": "3bd68ab0-99e5-4f22-9e11-0a5a36f6111b"
      },
      "outputs": [
        {
          "output_type": "stream",
          "name": "stdout",
          "text": [
            "Epoch 1/50\n",
            "\u001b[1m184/184\u001b[0m \u001b[32m━━━━━━━━━━━━━━━━━━━━\u001b[0m\u001b[37m\u001b[0m \u001b[1m51s\u001b[0m 118ms/step - accuracy: 0.3204 - loss: 2.1070 - val_accuracy: 0.5452 - val_loss: 0.8464 - learning_rate: 0.0010\n",
            "Epoch 2/50\n",
            "\u001b[1m184/184\u001b[0m \u001b[32m━━━━━━━━━━━━━━━━━━━━\u001b[0m\u001b[37m\u001b[0m \u001b[1m5s\u001b[0m 29ms/step - accuracy: 0.5338 - loss: 0.8432 - val_accuracy: 0.7016 - val_loss: 0.5296 - learning_rate: 0.0010\n",
            "Epoch 3/50\n",
            "\u001b[1m184/184\u001b[0m \u001b[32m━━━━━━━━━━━━━━━━━━━━\u001b[0m\u001b[37m\u001b[0m \u001b[1m5s\u001b[0m 28ms/step - accuracy: 0.5140 - loss: 0.9659 - val_accuracy: 0.3596 - val_loss: 1.0995 - learning_rate: 0.0010\n",
            "Epoch 4/50\n",
            "\u001b[1m184/184\u001b[0m \u001b[32m━━━━━━━━━━━━━━━━━━━━\u001b[0m\u001b[37m\u001b[0m \u001b[1m5s\u001b[0m 28ms/step - accuracy: 0.3869 - loss: 1.0977 - val_accuracy: 0.4718 - val_loss: 0.9076 - learning_rate: 0.0010\n",
            "Epoch 5/50\n",
            "\u001b[1m184/184\u001b[0m \u001b[32m━━━━━━━━━━━━━━━━━━━━\u001b[0m\u001b[37m\u001b[0m \u001b[1m5s\u001b[0m 28ms/step - accuracy: 0.4797 - loss: 0.9255 - val_accuracy: 0.4976 - val_loss: 1.0469 - learning_rate: 0.0010\n",
            "Epoch 6/50\n",
            "\u001b[1m184/184\u001b[0m \u001b[32m━━━━━━━━━━━━━━━━━━━━\u001b[0m\u001b[37m\u001b[0m \u001b[1m5s\u001b[0m 28ms/step - accuracy: 0.6447 - loss: 0.6852 - val_accuracy: 0.5316 - val_loss: 0.9989 - learning_rate: 0.0010\n",
            "Epoch 7/50\n",
            "\u001b[1m184/184\u001b[0m \u001b[32m━━━━━━━━━━━━━━━━━━━━\u001b[0m\u001b[37m\u001b[0m \u001b[1m5s\u001b[0m 28ms/step - accuracy: 0.5387 - loss: 0.8717 - val_accuracy: 0.5255 - val_loss: 0.8148 - learning_rate: 0.0010\n",
            "Epoch 8/50\n",
            "\u001b[1m184/184\u001b[0m \u001b[32m━━━━━━━━━━━━━━━━━━━━\u001b[0m\u001b[37m\u001b[0m \u001b[1m5s\u001b[0m 28ms/step - accuracy: 0.5737 - loss: 0.7593 - val_accuracy: 0.6370 - val_loss: 0.6175 - learning_rate: 5.0000e-04\n",
            "Epoch 9/50\n",
            "\u001b[1m184/184\u001b[0m \u001b[32m━━━━━━━━━━━━━━━━━━━━\u001b[0m\u001b[37m\u001b[0m \u001b[1m5s\u001b[0m 29ms/step - accuracy: 0.6251 - loss: 0.6969 - val_accuracy: 0.6485 - val_loss: 0.7090 - learning_rate: 5.0000e-04\n",
            "Epoch 10/50\n",
            "\u001b[1m184/184\u001b[0m \u001b[32m━━━━━━━━━━━━━━━━━━━━\u001b[0m\u001b[37m\u001b[0m \u001b[1m5s\u001b[0m 29ms/step - accuracy: 0.6745 - loss: 0.6173 - val_accuracy: 0.7865 - val_loss: 0.3806 - learning_rate: 5.0000e-04\n",
            "Epoch 11/50\n",
            "\u001b[1m184/184\u001b[0m \u001b[32m━━━━━━━━━━━━━━━━━━━━\u001b[0m\u001b[37m\u001b[0m \u001b[1m5s\u001b[0m 29ms/step - accuracy: 0.7843 - loss: 0.4339 - val_accuracy: 0.7600 - val_loss: 0.7483 - learning_rate: 5.0000e-04\n",
            "Epoch 12/50\n",
            "\u001b[1m184/184\u001b[0m \u001b[32m━━━━━━━━━━━━━━━━━━━━\u001b[0m\u001b[37m\u001b[0m \u001b[1m5s\u001b[0m 29ms/step - accuracy: 0.7788 - loss: 0.5113 - val_accuracy: 0.8851 - val_loss: 0.3051 - learning_rate: 5.0000e-04\n",
            "Epoch 13/50\n",
            "\u001b[1m184/184\u001b[0m \u001b[32m━━━━━━━━━━━━━━━━━━━━\u001b[0m\u001b[37m\u001b[0m \u001b[1m5s\u001b[0m 29ms/step - accuracy: 0.9141 - loss: 0.2470 - val_accuracy: 0.9218 - val_loss: 0.2357 - learning_rate: 5.0000e-04\n",
            "Epoch 14/50\n",
            "\u001b[1m184/184\u001b[0m \u001b[32m━━━━━━━━━━━━━━━━━━━━\u001b[0m\u001b[37m\u001b[0m \u001b[1m5s\u001b[0m 29ms/step - accuracy: 0.8943 - loss: 0.2850 - val_accuracy: 0.9429 - val_loss: 0.1386 - learning_rate: 5.0000e-04\n",
            "Epoch 15/50\n",
            "\u001b[1m184/184\u001b[0m \u001b[32m━━━━━━━━━━━━━━━━━━━━\u001b[0m\u001b[37m\u001b[0m \u001b[1m5s\u001b[0m 29ms/step - accuracy: 0.9465 - loss: 0.1448 - val_accuracy: 0.9504 - val_loss: 0.1362 - learning_rate: 5.0000e-04\n",
            "Epoch 16/50\n",
            "\u001b[1m184/184\u001b[0m \u001b[32m━━━━━━━━━━━━━━━━━━━━\u001b[0m\u001b[37m\u001b[0m \u001b[1m5s\u001b[0m 29ms/step - accuracy: 0.9247 - loss: 0.2081 - val_accuracy: 0.9579 - val_loss: 0.1100 - learning_rate: 5.0000e-04\n",
            "Epoch 17/50\n",
            "\u001b[1m184/184\u001b[0m \u001b[32m━━━━━━━━━━━━━━━━━━━━\u001b[0m\u001b[37m\u001b[0m \u001b[1m5s\u001b[0m 29ms/step - accuracy: 0.9519 - loss: 0.1180 - val_accuracy: 0.9511 - val_loss: 0.1366 - learning_rate: 5.0000e-04\n",
            "Epoch 18/50\n",
            "\u001b[1m184/184\u001b[0m \u001b[32m━━━━━━━━━━━━━━━━━━━━\u001b[0m\u001b[37m\u001b[0m \u001b[1m5s\u001b[0m 29ms/step - accuracy: 0.9080 - loss: 0.2228 - val_accuracy: 0.9551 - val_loss: 0.1346 - learning_rate: 5.0000e-04\n",
            "Epoch 19/50\n",
            "\u001b[1m184/184\u001b[0m \u001b[32m━━━━━━━━━━━━━━━━━━━━\u001b[0m\u001b[37m\u001b[0m \u001b[1m5s\u001b[0m 29ms/step - accuracy: 0.9548 - loss: 0.1227 - val_accuracy: 0.9483 - val_loss: 0.1316 - learning_rate: 5.0000e-04\n",
            "Epoch 20/50\n",
            "\u001b[1m184/184\u001b[0m \u001b[32m━━━━━━━━━━━━━━━━━━━━\u001b[0m\u001b[37m\u001b[0m \u001b[1m5s\u001b[0m 29ms/step - accuracy: 0.9491 - loss: 0.1542 - val_accuracy: 0.9572 - val_loss: 0.1169 - learning_rate: 5.0000e-04\n",
            "Epoch 21/50\n",
            "\u001b[1m184/184\u001b[0m \u001b[32m━━━━━━━━━━━━━━━━━━━━\u001b[0m\u001b[37m\u001b[0m \u001b[1m5s\u001b[0m 29ms/step - accuracy: 0.9488 - loss: 0.1514 - val_accuracy: 0.9592 - val_loss: 0.1049 - learning_rate: 5.0000e-04\n",
            "Epoch 22/50\n",
            "\u001b[1m184/184\u001b[0m \u001b[32m━━━━━━━━━━━━━━━━━━━━\u001b[0m\u001b[37m\u001b[0m \u001b[1m5s\u001b[0m 29ms/step - accuracy: 0.9559 - loss: 0.1160 - val_accuracy: 0.9449 - val_loss: 0.1430 - learning_rate: 5.0000e-04\n",
            "Epoch 23/50\n",
            "\u001b[1m184/184\u001b[0m \u001b[32m━━━━━━━━━━━━━━━━━━━━\u001b[0m\u001b[37m\u001b[0m \u001b[1m5s\u001b[0m 28ms/step - accuracy: 0.9421 - loss: 0.1711 - val_accuracy: 0.9443 - val_loss: 0.1305 - learning_rate: 5.0000e-04\n",
            "Epoch 24/50\n",
            "\u001b[1m184/184\u001b[0m \u001b[32m━━━━━━━━━━━━━━━━━━━━\u001b[0m\u001b[37m\u001b[0m \u001b[1m5s\u001b[0m 29ms/step - accuracy: 0.9564 - loss: 0.1055 - val_accuracy: 0.9511 - val_loss: 0.1104 - learning_rate: 5.0000e-04\n",
            "Epoch 25/50\n",
            "\u001b[1m184/184\u001b[0m \u001b[32m━━━━━━━━━━━━━━━━━━━━\u001b[0m\u001b[37m\u001b[0m \u001b[1m5s\u001b[0m 28ms/step - accuracy: 0.9619 - loss: 0.1008 - val_accuracy: 0.9415 - val_loss: 0.1366 - learning_rate: 5.0000e-04\n",
            "Epoch 26/50\n",
            "\u001b[1m184/184\u001b[0m \u001b[32m━━━━━━━━━━━━━━━━━━━━\u001b[0m\u001b[37m\u001b[0m \u001b[1m5s\u001b[0m 28ms/step - accuracy: 0.9530 - loss: 0.1253 - val_accuracy: 0.9545 - val_loss: 0.1175 - learning_rate: 5.0000e-04\n",
            "Epoch 27/50\n",
            "\u001b[1m184/184\u001b[0m \u001b[32m━━━━━━━━━━━━━━━━━━━━\u001b[0m\u001b[37m\u001b[0m \u001b[1m5s\u001b[0m 29ms/step - accuracy: 0.9527 - loss: 0.1187 - val_accuracy: 0.9599 - val_loss: 0.0988 - learning_rate: 2.5000e-04\n",
            "Epoch 28/50\n",
            "\u001b[1m184/184\u001b[0m \u001b[32m━━━━━━━━━━━━━━━━━━━━\u001b[0m\u001b[37m\u001b[0m \u001b[1m5s\u001b[0m 28ms/step - accuracy: 0.9626 - loss: 0.1121 - val_accuracy: 0.9551 - val_loss: 0.1003 - learning_rate: 2.5000e-04\n",
            "Epoch 29/50\n",
            "\u001b[1m184/184\u001b[0m \u001b[32m━━━━━━━━━━━━━━━━━━━━\u001b[0m\u001b[37m\u001b[0m \u001b[1m5s\u001b[0m 29ms/step - accuracy: 0.9617 - loss: 0.0992 - val_accuracy: 0.9599 - val_loss: 0.0890 - learning_rate: 2.5000e-04\n",
            "Epoch 30/50\n",
            "\u001b[1m184/184\u001b[0m \u001b[32m━━━━━━━━━━━━━━━━━━━━\u001b[0m\u001b[37m\u001b[0m \u001b[1m5s\u001b[0m 29ms/step - accuracy: 0.9549 - loss: 0.1128 - val_accuracy: 0.9619 - val_loss: 0.0832 - learning_rate: 2.5000e-04\n",
            "Epoch 31/50\n",
            "\u001b[1m184/184\u001b[0m \u001b[32m━━━━━━━━━━━━━━━━━━━━\u001b[0m\u001b[37m\u001b[0m \u001b[1m5s\u001b[0m 28ms/step - accuracy: 0.9578 - loss: 0.1161 - val_accuracy: 0.9646 - val_loss: 0.1011 - learning_rate: 2.5000e-04\n",
            "Epoch 32/50\n",
            "\u001b[1m184/184\u001b[0m \u001b[32m━━━━━━━━━━━━━━━━━━━━\u001b[0m\u001b[37m\u001b[0m \u001b[1m5s\u001b[0m 28ms/step - accuracy: 0.9589 - loss: 0.0993 - val_accuracy: 0.9558 - val_loss: 0.0898 - learning_rate: 2.5000e-04\n",
            "Epoch 33/50\n",
            "\u001b[1m184/184\u001b[0m \u001b[32m━━━━━━━━━━━━━━━━━━━━\u001b[0m\u001b[37m\u001b[0m \u001b[1m5s\u001b[0m 29ms/step - accuracy: 0.9599 - loss: 0.0951 - val_accuracy: 0.9633 - val_loss: 0.0813 - learning_rate: 2.5000e-04\n",
            "Epoch 34/50\n",
            "\u001b[1m184/184\u001b[0m \u001b[32m━━━━━━━━━━━━━━━━━━━━\u001b[0m\u001b[37m\u001b[0m \u001b[1m5s\u001b[0m 29ms/step - accuracy: 0.9578 - loss: 0.0884 - val_accuracy: 0.9579 - val_loss: 0.1104 - learning_rate: 2.5000e-04\n",
            "Epoch 35/50\n",
            "\u001b[1m184/184\u001b[0m \u001b[32m━━━━━━━━━━━━━━━━━━━━\u001b[0m\u001b[37m\u001b[0m \u001b[1m5s\u001b[0m 29ms/step - accuracy: 0.9613 - loss: 0.0946 - val_accuracy: 0.9551 - val_loss: 0.1013 - learning_rate: 2.5000e-04\n",
            "Epoch 36/50\n",
            "\u001b[1m184/184\u001b[0m \u001b[32m━━━━━━━━━━━━━━━━━━━━\u001b[0m\u001b[37m\u001b[0m \u001b[1m5s\u001b[0m 28ms/step - accuracy: 0.9581 - loss: 0.0920 - val_accuracy: 0.9646 - val_loss: 0.0960 - learning_rate: 2.5000e-04\n",
            "Epoch 37/50\n",
            "\u001b[1m184/184\u001b[0m \u001b[32m━━━━━━━━━━━━━━━━━━━━\u001b[0m\u001b[37m\u001b[0m \u001b[1m5s\u001b[0m 28ms/step - accuracy: 0.9610 - loss: 0.0905 - val_accuracy: 0.9613 - val_loss: 0.1014 - learning_rate: 2.5000e-04\n",
            "Epoch 38/50\n",
            "\u001b[1m184/184\u001b[0m \u001b[32m━━━━━━━━━━━━━━━━━━━━\u001b[0m\u001b[37m\u001b[0m \u001b[1m5s\u001b[0m 28ms/step - accuracy: 0.9530 - loss: 0.1395 - val_accuracy: 0.9565 - val_loss: 0.1095 - learning_rate: 2.5000e-04\n",
            "Epoch 39/50\n",
            "\u001b[1m184/184\u001b[0m \u001b[32m━━━━━━━━━━━━━━━━━━━━\u001b[0m\u001b[37m\u001b[0m \u001b[1m5s\u001b[0m 29ms/step - accuracy: 0.9595 - loss: 0.0983 - val_accuracy: 0.9660 - val_loss: 0.0800 - learning_rate: 1.2500e-04\n",
            "Epoch 40/50\n",
            "\u001b[1m184/184\u001b[0m \u001b[32m━━━━━━━━━━━━━━━━━━━━\u001b[0m\u001b[37m\u001b[0m \u001b[1m5s\u001b[0m 29ms/step - accuracy: 0.9624 - loss: 0.0870 - val_accuracy: 0.9667 - val_loss: 0.0798 - learning_rate: 1.2500e-04\n",
            "Epoch 41/50\n",
            "\u001b[1m184/184\u001b[0m \u001b[32m━━━━━━━━━━━━━━━━━━━━\u001b[0m\u001b[37m\u001b[0m \u001b[1m5s\u001b[0m 29ms/step - accuracy: 0.9620 - loss: 0.0820 - val_accuracy: 0.9660 - val_loss: 0.0775 - learning_rate: 1.2500e-04\n",
            "Epoch 42/50\n",
            "\u001b[1m184/184\u001b[0m \u001b[32m━━━━━━━━━━━━━━━━━━━━\u001b[0m\u001b[37m\u001b[0m \u001b[1m5s\u001b[0m 30ms/step - accuracy: 0.9660 - loss: 0.0806 - val_accuracy: 0.9660 - val_loss: 0.0750 - learning_rate: 1.2500e-04\n",
            "Epoch 43/50\n",
            "\u001b[1m184/184\u001b[0m \u001b[32m━━━━━━━━━━━━━━━━━━━━\u001b[0m\u001b[37m\u001b[0m \u001b[1m5s\u001b[0m 30ms/step - accuracy: 0.9650 - loss: 0.0824 - val_accuracy: 0.9646 - val_loss: 0.0770 - learning_rate: 1.2500e-04\n",
            "Epoch 44/50\n",
            "\u001b[1m184/184\u001b[0m \u001b[32m━━━━━━━━━━━━━━━━━━━━\u001b[0m\u001b[37m\u001b[0m \u001b[1m5s\u001b[0m 30ms/step - accuracy: 0.9651 - loss: 0.0883 - val_accuracy: 0.9653 - val_loss: 0.0757 - learning_rate: 1.2500e-04\n",
            "Epoch 45/50\n",
            "\u001b[1m184/184\u001b[0m \u001b[32m━━━━━━━━━━━━━━━━━━━━\u001b[0m\u001b[37m\u001b[0m \u001b[1m5s\u001b[0m 30ms/step - accuracy: 0.9660 - loss: 0.0803 - val_accuracy: 0.9640 - val_loss: 0.0794 - learning_rate: 1.2500e-04\n",
            "Epoch 46/50\n",
            "\u001b[1m184/184\u001b[0m \u001b[32m━━━━━━━━━━━━━━━━━━━━\u001b[0m\u001b[37m\u001b[0m \u001b[1m5s\u001b[0m 30ms/step - accuracy: 0.9611 - loss: 0.0810 - val_accuracy: 0.9667 - val_loss: 0.0745 - learning_rate: 1.2500e-04\n",
            "Epoch 47/50\n",
            "\u001b[1m184/184\u001b[0m \u001b[32m━━━━━━━━━━━━━━━━━━━━\u001b[0m\u001b[37m\u001b[0m \u001b[1m5s\u001b[0m 28ms/step - accuracy: 0.9609 - loss: 0.0862 - val_accuracy: 0.9633 - val_loss: 0.0760 - learning_rate: 1.2500e-04\n",
            "Epoch 48/50\n",
            "\u001b[1m184/184\u001b[0m \u001b[32m━━━━━━━━━━━━━━━━━━━━\u001b[0m\u001b[37m\u001b[0m \u001b[1m5s\u001b[0m 28ms/step - accuracy: 0.9670 - loss: 0.0766 - val_accuracy: 0.9660 - val_loss: 0.0833 - learning_rate: 1.2500e-04\n",
            "Epoch 49/50\n",
            "\u001b[1m184/184\u001b[0m \u001b[32m━━━━━━━━━━━━━━━━━━━━\u001b[0m\u001b[37m\u001b[0m \u001b[1m5s\u001b[0m 29ms/step - accuracy: 0.9668 - loss: 0.0805 - val_accuracy: 0.9687 - val_loss: 0.0743 - learning_rate: 1.2500e-04\n",
            "Epoch 50/50\n",
            "\u001b[1m184/184\u001b[0m \u001b[32m━━━━━━━━━━━━━━━━━━━━\u001b[0m\u001b[37m\u001b[0m \u001b[1m5s\u001b[0m 29ms/step - accuracy: 0.9696 - loss: 0.0740 - val_accuracy: 0.9694 - val_loss: 0.0703 - learning_rate: 1.2500e-04\n"
          ]
        }
      ],
      "source": [
        "x_train_split, x_val_split, y_train_split, y_val_split = train_test_split(\n",
        "    x_train_seq, y_train_seq_onehot, test_size=0.2, random_state=42\n",
        ")\n",
        "\n",
        "early_stopping = callbacks.EarlyStopping(\n",
        "    monitor='val_loss',\n",
        "    patience=10,\n",
        "    restore_best_weights=True\n",
        ")\n",
        "\n",
        "reduce_lr = callbacks.ReduceLROnPlateau(\n",
        "    monitor='val_loss',\n",
        "    factor=0.5,\n",
        "    patience=5,\n",
        "    min_lr=1e-5\n",
        ")\n",
        "\n",
        "history = model.fit(\n",
        "    x_train_split,\n",
        "    y_train_split,\n",
        "    epochs=50,\n",
        "    batch_size=32,\n",
        "    validation_data=(x_val_split, y_val_split),\n",
        "    callbacks=[early_stopping, reduce_lr],\n",
        "    verbose=1\n",
        ")"
      ]
    },
    {
      "cell_type": "code",
      "execution_count": 9,
      "id": "580d00ad",
      "metadata": {
        "ExecuteTime": {
          "start_time": "2025-04-26T13:01:00.615Z"
        },
        "colab": {
          "base_uri": "https://localhost:8080/",
          "height": 340
        },
        "id": "580d00ad",
        "outputId": "4d2eb673-e3e0-40b4-895f-1a10f936e47d"
      },
      "outputs": [
        {
          "output_type": "display_data",
          "data": {
            "text/plain": [
              "<Figure size 1200x500 with 2 Axes>"
            ],
            "image/png": "[encoded data removed]"
          },
          "metadata": {}
        }
      ],
      "source": [
        "plt.figure(figsize=(12, 5))\n",
        "\n",
        "plt.subplot(1, 2, 1)\n",
        "plt.plot(history.history['accuracy'], label='Train Accuracy')\n",
        "plt.plot(history.history['val_accuracy'], label='Validation Accuracy')\n",
        "plt.title('Model Accuracy')\n",
        "plt.xlabel('Epoch')\n",
        "plt.ylabel('Accuracy')\n",
        "plt.legend()\n",
        "\n",
        "plt.subplot(1, 2, 2)\n",
        "plt.plot(history.history['loss'], label='Train Loss')\n",
        "plt.plot(history.history['val_loss'], label='Validation Loss')\n",
        "plt.title('Model Loss')\n",
        "plt.xlabel('Epoch')\n",
        "plt.ylabel('Loss')\n",
        "plt.legend()\n",
        "\n",
        "plt.tight_layout()\n",
        "plt.show()"
      ]
    },
    {
      "cell_type": "code",
      "execution_count": 10,
      "id": "b0f2eb0d",
      "metadata": {
        "ExecuteTime": {
          "start_time": "2025-04-26T13:01:00.617Z"
        },
        "colab": {
          "base_uri": "https://localhost:8080/"
        },
        "id": "b0f2eb0d",
        "outputId": "a95fb08a-85d9-42d7-a958-e995e3a5cdbd"
      },
      "outputs": [
        {
          "output_type": "stream",
          "name": "stdout",
          "text": [
            "\u001b[1m93/93\u001b[0m \u001b[32m━━━━━━━━━━━━━━━━━━━━\u001b[0m\u001b[37m\u001b[0m \u001b[1m2s\u001b[0m 24ms/step - accuracy: 0.8889 - loss: 0.5881\n",
            "Test accuracy: 0.9158\n",
            "Test loss: 0.5553\n",
            "\u001b[1m93/93\u001b[0m \u001b[32m━━━━━━━━━━━━━━━━━━━━\u001b[0m\u001b[37m\u001b[0m \u001b[1m5s\u001b[0m 31ms/step\n"
          ]
        }
      ],
      "source": [
        "test_loss, test_acc = model.evaluate(x_test_seq, y_test_seq_onehot)\n",
        "print(f\"Test accuracy: {test_acc:.4f}\")\n",
        "print(f\"Test loss: {test_loss:.4f}\")\n",
        "\n",
        "y_pred_proba = model.predict(x_test_seq)\n",
        "y_pred = np.argmax(y_pred_proba, axis=1)\n",
        "y_true = np.argmax(y_test_seq_onehot, axis=1)"
      ]
    },
    {
      "cell_type": "code",
      "execution_count": 11,
      "id": "919f6e0b",
      "metadata": {
        "ExecuteTime": {
          "start_time": "2025-04-26T13:01:00.619Z"
        },
        "colab": {
          "base_uri": "https://localhost:8080/"
        },
        "id": "919f6e0b",
        "outputId": "03a642e0-8eca-414b-8645-04ceb95c12c3"
      },
      "outputs": [
        {
          "output_type": "stream",
          "name": "stdout",
          "text": [
            "\n",
            "Evaluation Metrics:\n",
            "Accuracy: 0.9158\n",
            "Precision: 0.9167\n",
            "Recall: 0.9158\n",
            "F1 Score: 0.9158\n",
            "Average Specificity: 0.9831\n",
            "\n",
            "Class-wise Specificities:\n",
            "Class 0 (WALKING): 0.9886\n",
            "Class 1 (WALKING_UPSTAIRS): 0.9746\n",
            "Class 2 (WALKING_DOWNSTAIRS): 0.9905\n",
            "Class 3 (SITTING): 0.9805\n",
            "Class 4 (STANDING): 0.9648\n",
            "Class 5 (LAYING): 1.0000\n"
          ]
        }
      ],
      "source": [
        "precision = precision_score(y_true, y_pred, average='weighted')\n",
        "recall = recall_score(y_true, y_pred, average='weighted')\n",
        "f1 = f1_score(y_true, y_pred, average='weighted')\n",
        "\n",
        "# Calculate specificity for each class\n",
        "def specificity_score(y_true, y_pred, num_classes=6):\n",
        "    specificities = []\n",
        "\n",
        "    for i in range(num_classes):\n",
        "        true_negative = np.sum((y_true != i) & (y_pred != i))\n",
        "        false_positive = np.sum((y_true != i) & (y_pred == i))\n",
        "\n",
        "        if true_negative + false_positive == 0:\n",
        "            specificities.append(1.0)\n",
        "        else:\n",
        "            specificities.append(true_negative / (true_negative + false_positive))\n",
        "\n",
        "    return specificities\n",
        "\n",
        "specificities = specificity_score(y_true, y_pred)\n",
        "avg_specificity = np.mean(specificities)\n",
        "\n",
        "print(\"\\nEvaluation Metrics:\")\n",
        "print(f\"Accuracy: {test_acc:.4f}\")\n",
        "print(f\"Precision: {precision:.4f}\")\n",
        "print(f\"Recall: {recall:.4f}\")\n",
        "print(f\"F1 Score: {f1:.4f}\")\n",
        "print(f\"Average Specificity: {avg_specificity:.4f}\")\n",
        "\n",
        "print(\"\\nClass-wise Specificities:\")\n",
        "for i, spec in enumerate(specificities):\n",
        "    print(f\"Class {i} ({activity_labels.iloc[i, 1]}): {spec:.4f}\")"
      ]
    },
    {
      "cell_type": "code",
      "execution_count": 12,
      "id": "1bbaa749",
      "metadata": {
        "ExecuteTime": {
          "start_time": "2025-04-26T13:01:00.621Z"
        },
        "colab": {
          "base_uri": "https://localhost:8080/"
        },
        "id": "1bbaa749",
        "outputId": "897c4ba1-3c03-49d9-998c-61c3827a734d"
      },
      "outputs": [
        {
          "output_type": "stream",
          "name": "stdout",
          "text": [
            "\n",
            "Classification Report:\n",
            "                    precision    recall  f1-score   support\n",
            "\n",
            "           WALKING       0.94      0.91      0.92       496\n",
            "  WALKING_UPSTAIRS       0.87      0.89      0.88       471\n",
            "WALKING_DOWNSTAIRS       0.94      0.96      0.95       420\n",
            "           SITTING       0.89      0.83      0.86       491\n",
            "          STANDING       0.85      0.91      0.88       532\n",
            "            LAYING       1.00      1.00      1.00       537\n",
            "\n",
            "          accuracy                           0.92      2947\n",
            "         macro avg       0.92      0.92      0.92      2947\n",
            "      weighted avg       0.92      0.92      0.92      2947\n",
            "\n"
          ]
        }
      ],
      "source": [
        "print(\"\\nClassification Report:\")\n",
        "print(classification_report(y_true, y_pred,\n",
        "                           target_names=activity_labels['class_name'].values))"
      ]
    },
    {
      "cell_type": "code",
      "execution_count": 13,
      "id": "3bf6e6ee",
      "metadata": {
        "ExecuteTime": {
          "start_time": "2025-04-26T13:01:00.623Z"
        },
        "colab": {
          "base_uri": "https://localhost:8080/",
          "height": 827
        },
        "id": "3bf6e6ee",
        "outputId": "c8bf7acd-f5a2-4ae4-ec8b-78b4678828d5"
      },
      "outputs": [
        {
          "output_type": "display_data",
          "data": {
            "text/plain": [
              "<Figure size 1000x800 with 2 Axes>"
            ],
            "image/png": "[encoded data removed]"
          },
          "metadata": {}
        }
      ],
      "source": [
        "cm = confusion_matrix(y_true, y_pred)\n",
        "plt.figure(figsize=(10, 8))\n",
        "sns.heatmap(cm, annot=True, fmt='d', cmap='Blues',\n",
        "           xticklabels=activity_labels['class_name'].values,\n",
        "           yticklabels=activity_labels['class_name'].values)\n",
        "plt.xlabel('Predicted')\n",
        "plt.ylabel('True')\n",
        "plt.title('Confusion Matrix - PatchFormer (UCI-HAR)')\n",
        "plt.tight_layout()\n",
        "plt.show()"
      ]
    }
  ],
  "metadata": {
    "kernelspec": {
      "display_name": "Python 3",
      "name": "python3"
    },
    "language_info": {
      "codemirror_mode": {
        "name": "ipython",
        "version": 3
      },
      "file_extension": ".py",
      "mimetype": "text/x-python",
      "name": "python",
      "nbconvert_exporter": "python",
      "pygments_lexer": "ipython3",
      "version": "3.11.3"
    },
    "varInspector": {
      "cols": {
        "lenName": 16,
        "lenType": 16,
        "lenVar": 40
      },
      "kernels_config": {
        "python": {
          "delete_cmd_postfix": "",
          "delete_cmd_prefix": "del ",
          "library": "var_list.py",
          "varRefreshCmd": "print(var_dic_list())"
        },
        "r": {
          "delete_cmd_postfix": ") ",
          "delete_cmd_prefix": "rm(",
          "library": "var_list.r",
          "varRefreshCmd": "cat(var_dic_list()) "
        }
      },
      "types_to_exclude": [
        "module",
        "function",
        "builtin_function_or_method",
        "instance",
        "_Feature"
      ],
      "window_display": false
    },
    "colab": {
      "provenance": [],
      "machine_shape": "hm",
      "gpuType": "T4"
    },
    "accelerator": "GPU"
  },
  "nbformat": 4,
  "nbformat_minor": 5
}